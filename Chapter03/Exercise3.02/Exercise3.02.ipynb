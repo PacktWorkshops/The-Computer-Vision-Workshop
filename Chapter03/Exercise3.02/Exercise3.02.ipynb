{
 "cells": [
  {
   "cell_type": "code",
   "execution_count": 1,
   "metadata": {},
   "outputs": [],
   "source": [
    "import cv2\n",
    "import matplotlib.pyplot as plt"
   ]
  },
  {
   "cell_type": "code",
   "execution_count": 2,
   "metadata": {},
   "outputs": [],
   "source": [
    "img= cv2.imread('../data/river_scene.jpg'  , cv2.IMREAD_GRAYSCALE)"
   ]
  },
  {
   "cell_type": "code",
   "execution_count": 3,
   "metadata": {},
   "outputs": [],
   "source": [
    "cv2.imshow('grayscale image', img)\n",
    "cv2.waitKey(0)\n",
    "cv2.destroyAllWindows()"
   ]
  },
  {
   "cell_type": "code",
   "execution_count": 5,
   "metadata": {},
   "outputs": [
    {
     "data": {
      "image/png": "[encoded data removed]",
      "text/plain": [
       "<Figure size 432x288 with 1 Axes>"
      ]
     },
     "metadata": {
      "needs_background": "light"
     },
     "output_type": "display_data"
    }
   ],
   "source": [
    "ax = plt.hist(img.ravel())\n",
    "plt.show() "
   ]
  },
  {
   "cell_type": "code",
   "execution_count": 8,
   "metadata": {},
   "outputs": [],
   "source": [
    "bin_img= cv2.imread('../data/gblack and white.png'  , cv2.IMREAD_GRAYSCALE)\n",
    "cv2.imshow('binary image', bin_img)\n",
    "cv2.waitKey(0)\n",
    "cv2.destroyAllWindows()"
   ]
  },
  {
   "cell_type": "code",
   "execution_count": 9,
   "metadata": {},
   "outputs": [
    {
     "data": {
      "image/png": "[encoded data removed]",
      "text/plain": [
       "<Figure size 432x288 with 1 Axes>"
      ]
     },
     "metadata": {
      "needs_background": "light"
     },
     "output_type": "display_data"
    }
   ],
   "source": [
    "ax = plt.hist(bin_img.ravel(), bins=256)\n",
    "plt.show() "
   ]
  },
  {
   "cell_type": "code",
   "execution_count": 19,
   "metadata": {},
   "outputs": [
    {
     "name": "stdout",
     "output_type": "stream",
     "text": [
      "['IMREAD_ANYCOLOR', 'IMREAD_ANYDEPTH', 'IMREAD_COLOR', 'IMREAD_GRAYSCALE', 'IMREAD_IGNORE_ORIENTATION', 'IMREAD_LOAD_GDAL', 'IMREAD_REDUCED_COLOR_2', 'IMREAD_REDUCED_COLOR_4', 'IMREAD_REDUCED_COLOR_8', 'IMREAD_REDUCED_GRAYSCALE_2', 'IMREAD_REDUCED_GRAYSCALE_4', 'IMREAD_REDUCED_GRAYSCALE_8', 'IMREAD_UNCHANGED', 'IMWRITE_EXR_TYPE', 'IMWRITE_EXR_TYPE_FLOAT', 'IMWRITE_EXR_TYPE_HALF', 'IMWRITE_JPEG2000_COMPRESSION_X1000', 'IMWRITE_JPEG_CHROMA_QUALITY', 'IMWRITE_JPEG_LUMA_QUALITY', 'IMWRITE_JPEG_OPTIMIZE', 'IMWRITE_JPEG_PROGRESSIVE', 'IMWRITE_JPEG_QUALITY', 'IMWRITE_JPEG_RST_INTERVAL', 'IMWRITE_PAM_FORMAT_BLACKANDWHITE', 'IMWRITE_PAM_FORMAT_GRAYSCALE', 'IMWRITE_PAM_FORMAT_GRAYSCALE_ALPHA', 'IMWRITE_PAM_FORMAT_NULL', 'IMWRITE_PAM_FORMAT_RGB', 'IMWRITE_PAM_FORMAT_RGB_ALPHA', 'IMWRITE_PAM_TUPLETYPE', 'IMWRITE_PNG_BILEVEL', 'IMWRITE_PNG_COMPRESSION', 'IMWRITE_PNG_STRATEGY', 'IMWRITE_PNG_STRATEGY_DEFAULT', 'IMWRITE_PNG_STRATEGY_FILTERED', 'IMWRITE_PNG_STRATEGY_FIXED', 'IMWRITE_PNG_STRATEGY_HUFFMAN_ONLY', 'IMWRITE_PNG_STRATEGY_RLE', 'IMWRITE_PXM_BINARY', 'IMWRITE_TIFF_COMPRESSION', 'IMWRITE_TIFF_RESUNIT', 'IMWRITE_TIFF_XDPI', 'IMWRITE_TIFF_YDPI', 'IMWRITE_WEBP_QUALITY', 'imdecode', 'imencode', 'importlib', 'imread', 'imreadmulti', 'imshow', 'imwrite']\n"
     ]
    }
   ],
   "source": [
    "print([n for n in filter(lambda x: x.lower().startswith(\"im\"), [m for m in dir(cv2)])])"
   ]
  },
  {
   "cell_type": "code",
   "execution_count": 20,
   "metadata": {},
   "outputs": [],
   "source": [
    "sf_img= cv2.imread('../data/sunflower.jpg')\n",
    "cv2.imshow('sunflower image', sf_img)\n",
    "cv2.waitKey(0)\n",
    "cv2.destroyAllWindows()"
   ]
  },
  {
   "cell_type": "code",
   "execution_count": 22,
   "metadata": {},
   "outputs": [
    {
     "data": {
      "text/plain": [
       "(array([4.9442e+04, 1.6088e+04, 1.5681e+04, 1.3912e+04, 1.1646e+04,\n",
       "        9.7720e+03, 8.0620e+03, 6.6360e+03, 5.4790e+03, 4.5100e+03,\n",
       "        3.7350e+03, 3.1300e+03, 2.7890e+03, 2.5080e+03, 2.2560e+03,\n",
       "        0.0000e+00, 2.0520e+03, 1.9090e+03, 1.7770e+03, 1.6980e+03,\n",
       "        1.6600e+03, 1.5190e+03, 1.3960e+03, 1.3470e+03, 1.3010e+03,\n",
       "        1.3130e+03, 1.2610e+03, 1.2550e+03, 1.2080e+03, 1.1290e+03,\n",
       "        0.0000e+00, 1.1190e+03, 1.0910e+03, 1.0700e+03, 1.0520e+03,\n",
       "        1.0340e+03, 1.0250e+03, 9.6100e+02, 1.0080e+03, 9.8600e+02,\n",
       "        1.0070e+03, 9.4500e+02, 9.3800e+02, 8.5200e+02, 8.9100e+02,\n",
       "        0.0000e+00, 9.3300e+02, 8.9300e+02, 8.6900e+02, 8.3400e+02,\n",
       "        8.5100e+02, 7.9600e+02, 8.3000e+02, 7.7000e+02, 7.9300e+02,\n",
       "        7.2800e+02, 8.2500e+02, 9.4100e+02, 1.2360e+03, 1.7800e+03,\n",
       "        0.0000e+00, 2.3170e+03, 3.0120e+03, 3.6250e+03, 3.3170e+03,\n",
       "        4.4670e+03, 4.7640e+03, 5.8020e+03, 6.1200e+03, 6.1670e+03,\n",
       "        5.3430e+03, 4.7490e+03, 4.1360e+03, 4.1100e+03, 3.6880e+03,\n",
       "        0.0000e+00, 3.7060e+03, 3.5610e+03, 2.7500e+03, 2.1650e+03,\n",
       "        1.6410e+03, 2.0190e+03, 1.8750e+03, 2.5050e+03, 2.4090e+03,\n",
       "        2.1570e+03, 2.4320e+03, 3.1400e+03, 2.9770e+03, 2.5020e+03,\n",
       "        0.0000e+00, 2.9260e+03, 2.2250e+03, 3.0330e+03, 3.2770e+03,\n",
       "        3.1730e+03, 2.4390e+03, 1.9190e+03, 1.6980e+03, 1.3520e+03,\n",
       "        1.1320e+03, 1.2820e+03, 1.1350e+03, 1.0810e+03, 9.1600e+02,\n",
       "        0.0000e+00, 8.7400e+02, 9.0000e+02, 8.3600e+02, 1.0590e+03,\n",
       "        1.0710e+03, 8.3800e+02, 1.0040e+03, 9.3100e+02, 9.6500e+02,\n",
       "        9.7000e+02, 9.6000e+02, 9.7900e+02, 8.8300e+02, 9.0500e+02,\n",
       "        0.0000e+00, 1.0200e+03, 7.3200e+02, 8.7500e+02, 9.1800e+02,\n",
       "        8.1500e+02, 7.3800e+02, 4.5300e+02, 3.6100e+02, 2.7500e+02,\n",
       "        2.1100e+02, 2.2200e+02, 1.9900e+02, 2.1200e+02, 1.6400e+02,\n",
       "        0.0000e+00, 2.1600e+02, 1.8700e+02, 1.9000e+02, 1.7500e+02,\n",
       "        1.9500e+02, 1.7500e+02, 2.0600e+02, 2.0900e+02, 1.8500e+02,\n",
       "        1.7600e+02, 2.0800e+02, 2.1200e+02, 1.8500e+02, 1.9800e+02,\n",
       "        0.0000e+00, 1.9800e+02, 1.8800e+02, 1.7900e+02, 1.7500e+02,\n",
       "        1.8200e+02, 1.5900e+02, 1.6400e+02, 1.5600e+02, 1.7500e+02,\n",
       "        1.6400e+02, 1.6600e+02, 1.4200e+02, 1.7500e+02, 1.4400e+02,\n",
       "        0.0000e+00, 1.5900e+02, 1.3600e+02, 1.6200e+02, 1.5000e+02,\n",
       "        1.4600e+02, 1.7400e+02, 1.3800e+02, 1.5500e+02, 1.5000e+02,\n",
       "        1.5500e+02, 1.5100e+02, 1.6000e+02, 1.8700e+02, 2.0400e+02,\n",
       "        0.0000e+00, 1.7000e+02, 1.6700e+02, 1.8200e+02, 2.0900e+02,\n",
       "        2.5900e+02, 2.8600e+02, 3.3400e+02, 3.8000e+02, 3.4000e+02,\n",
       "        3.8100e+02, 3.5700e+02, 3.5800e+02, 3.9500e+02, 4.5300e+02,\n",
       "        0.0000e+00, 4.8900e+02, 4.3500e+02, 4.6500e+02, 5.1700e+02,\n",
       "        5.2200e+02, 4.7400e+02, 5.0100e+02, 4.0100e+02, 3.5800e+02,\n",
       "        3.0300e+02, 2.3800e+02, 2.2200e+02, 2.1900e+02, 2.1100e+02,\n",
       "        0.0000e+00, 2.1100e+02, 1.6900e+02, 1.7400e+02, 1.3600e+02,\n",
       "        1.6200e+02, 1.3900e+02, 1.2400e+02, 1.3900e+02, 1.1100e+02,\n",
       "        1.0800e+02, 1.0900e+02, 1.4000e+02, 1.2700e+02, 1.0700e+02,\n",
       "        0.0000e+00, 1.4600e+02, 1.3800e+02, 8.0000e+01, 1.0200e+02,\n",
       "        1.0400e+02, 1.1400e+02, 1.1100e+02, 1.1600e+02, 9.5000e+01,\n",
       "        8.0000e+01, 9.6000e+01, 9.8000e+01, 1.0300e+02, 9.9000e+01,\n",
       "        0.0000e+00, 1.0600e+02, 8.6000e+01, 7.9000e+01, 6.8000e+01,\n",
       "        7.2000e+01, 4.8000e+01, 3.1000e+01, 2.9000e+01, 2.1000e+01,\n",
       "        1.4000e+01, 1.4000e+01, 6.0000e+00, 3.0000e+00, 2.0000e+00,\n",
       "        3.0000e+00]),\n",
       " array([  0.        ,   0.93359375,   1.8671875 ,   2.80078125,\n",
       "          3.734375  ,   4.66796875,   5.6015625 ,   6.53515625,\n",
       "          7.46875   ,   8.40234375,   9.3359375 ,  10.26953125,\n",
       "         11.203125  ,  12.13671875,  13.0703125 ,  14.00390625,\n",
       "         14.9375    ,  15.87109375,  16.8046875 ,  17.73828125,\n",
       "         18.671875  ,  19.60546875,  20.5390625 ,  21.47265625,\n",
       "         22.40625   ,  23.33984375,  24.2734375 ,  25.20703125,\n",
       "         26.140625  ,  27.07421875,  28.0078125 ,  28.94140625,\n",
       "         29.875     ,  30.80859375,  31.7421875 ,  32.67578125,\n",
       "         33.609375  ,  34.54296875,  35.4765625 ,  36.41015625,\n",
       "         37.34375   ,  38.27734375,  39.2109375 ,  40.14453125,\n",
       "         41.078125  ,  42.01171875,  42.9453125 ,  43.87890625,\n",
       "         44.8125    ,  45.74609375,  46.6796875 ,  47.61328125,\n",
       "         48.546875  ,  49.48046875,  50.4140625 ,  51.34765625,\n",
       "         52.28125   ,  53.21484375,  54.1484375 ,  55.08203125,\n",
       "         56.015625  ,  56.94921875,  57.8828125 ,  58.81640625,\n",
       "         59.75      ,  60.68359375,  61.6171875 ,  62.55078125,\n",
       "         63.484375  ,  64.41796875,  65.3515625 ,  66.28515625,\n",
       "         67.21875   ,  68.15234375,  69.0859375 ,  70.01953125,\n",
       "         70.953125  ,  71.88671875,  72.8203125 ,  73.75390625,\n",
       "         74.6875    ,  75.62109375,  76.5546875 ,  77.48828125,\n",
       "         78.421875  ,  79.35546875,  80.2890625 ,  81.22265625,\n",
       "         82.15625   ,  83.08984375,  84.0234375 ,  84.95703125,\n",
       "         85.890625  ,  86.82421875,  87.7578125 ,  88.69140625,\n",
       "         89.625     ,  90.55859375,  91.4921875 ,  92.42578125,\n",
       "         93.359375  ,  94.29296875,  95.2265625 ,  96.16015625,\n",
       "         97.09375   ,  98.02734375,  98.9609375 ,  99.89453125,\n",
       "        100.828125  , 101.76171875, 102.6953125 , 103.62890625,\n",
       "        104.5625    , 105.49609375, 106.4296875 , 107.36328125,\n",
       "        108.296875  , 109.23046875, 110.1640625 , 111.09765625,\n",
       "        112.03125   , 112.96484375, 113.8984375 , 114.83203125,\n",
       "        115.765625  , 116.69921875, 117.6328125 , 118.56640625,\n",
       "        119.5       , 120.43359375, 121.3671875 , 122.30078125,\n",
       "        123.234375  , 124.16796875, 125.1015625 , 126.03515625,\n",
       "        126.96875   , 127.90234375, 128.8359375 , 129.76953125,\n",
       "        130.703125  , 131.63671875, 132.5703125 , 133.50390625,\n",
       "        134.4375    , 135.37109375, 136.3046875 , 137.23828125,\n",
       "        138.171875  , 139.10546875, 140.0390625 , 140.97265625,\n",
       "        141.90625   , 142.83984375, 143.7734375 , 144.70703125,\n",
       "        145.640625  , 146.57421875, 147.5078125 , 148.44140625,\n",
       "        149.375     , 150.30859375, 151.2421875 , 152.17578125,\n",
       "        153.109375  , 154.04296875, 154.9765625 , 155.91015625,\n",
       "        156.84375   , 157.77734375, 158.7109375 , 159.64453125,\n",
       "        160.578125  , 161.51171875, 162.4453125 , 163.37890625,\n",
       "        164.3125    , 165.24609375, 166.1796875 , 167.11328125,\n",
       "        168.046875  , 168.98046875, 169.9140625 , 170.84765625,\n",
       "        171.78125   , 172.71484375, 173.6484375 , 174.58203125,\n",
       "        175.515625  , 176.44921875, 177.3828125 , 178.31640625,\n",
       "        179.25      , 180.18359375, 181.1171875 , 182.05078125,\n",
       "        182.984375  , 183.91796875, 184.8515625 , 185.78515625,\n",
       "        186.71875   , 187.65234375, 188.5859375 , 189.51953125,\n",
       "        190.453125  , 191.38671875, 192.3203125 , 193.25390625,\n",
       "        194.1875    , 195.12109375, 196.0546875 , 196.98828125,\n",
       "        197.921875  , 198.85546875, 199.7890625 , 200.72265625,\n",
       "        201.65625   , 202.58984375, 203.5234375 , 204.45703125,\n",
       "        205.390625  , 206.32421875, 207.2578125 , 208.19140625,\n",
       "        209.125     , 210.05859375, 210.9921875 , 211.92578125,\n",
       "        212.859375  , 213.79296875, 214.7265625 , 215.66015625,\n",
       "        216.59375   , 217.52734375, 218.4609375 , 219.39453125,\n",
       "        220.328125  , 221.26171875, 222.1953125 , 223.12890625,\n",
       "        224.0625    , 224.99609375, 225.9296875 , 226.86328125,\n",
       "        227.796875  , 228.73046875, 229.6640625 , 230.59765625,\n",
       "        231.53125   , 232.46484375, 233.3984375 , 234.33203125,\n",
       "        235.265625  , 236.19921875, 237.1328125 , 238.06640625,\n",
       "        239.        ]),\n",
       " <a list of 256 Patch objects>)"
      ]
     },
     "execution_count": 22,
     "metadata": {},
     "output_type": "execute_result"
    },
    {
     "data": {
      "image/png": "[encoded data removed]",
      "text/plain": [
       "<Figure size 432x288 with 1 Axes>"
      ]
     },
     "metadata": {
      "needs_background": "light"
     },
     "output_type": "display_data"
    }
   ],
   "source": [
    "im= sf_img[:, :, 2]\n",
    "plt.hist(im.ravel(), bins = 256, color = 'Red', alpha = 0.5)\n",
    "\n",
    "im= sf_img[:, :, 1]\n",
    "plt.hist(im.ravel(), bins = 256, color = 'Green', alpha = 0.5)\n",
    "\n",
    "im= sf_img[:, :, 0]\n",
    "plt.hist(im.ravel(), bins = 256, color = 'Blue', alpha = 0.5)"
   ]
  },
  {
   "cell_type": "code",
   "execution_count": null,
   "metadata": {},
   "outputs": [],
   "source": []
  }
 ],
 "metadata": {
  "kernelspec": {
   "display_name": "Python 3",
   "language": "python",
   "name": "python3"
  },
  "language_info": {
   "codemirror_mode": {
    "name": "ipython",
    "version": 3
   },
   "file_extension": ".py",
   "mimetype": "text/x-python",
   "name": "python",
   "nbconvert_exporter": "python",
   "pygments_lexer": "ipython3",
   "version": "3.7.6"
  }
 },
 "nbformat": 4,
 "nbformat_minor": 4
}
