{
 "cells": [
  {
   "cell_type": "code",
   "execution_count": 1,
   "metadata": {},
   "outputs": [],
   "source": [
    "# Import modules\n",
    "import cv2\n",
    "import numpy as np"
   ]
  },
  {
   "cell_type": "code",
   "execution_count": 2,
   "metadata": {},
   "outputs": [],
   "source": [
    "# Create a VideoCapture Object\n",
    "video = cv2.VideoCapture(\"../data/people.mp4\")"
   ]
  },
  {
   "cell_type": "code",
   "execution_count": 3,
   "metadata": {},
   "outputs": [],
   "source": [
    "# Check if video opened successfully\n",
    "if video.isOpened() == False:\n",
    "    print(\"Could not open video!\")"
   ]
  },
  {
   "cell_type": "code",
   "execution_count": 4,
   "metadata": {},
   "outputs": [],
   "source": [
    "# Read first frame\n",
    "ret, frame = video.read()"
   ]
  },
  {
   "cell_type": "code",
   "execution_count": 5,
   "metadata": {},
   "outputs": [],
   "source": [
    "# Check if frame is read successfully\n",
    "if ret == False:\n",
    "    print(\"Cannot read video\")"
   ]
  },
  {
   "cell_type": "code",
   "execution_count": 6,
   "metadata": {},
   "outputs": [
    {
     "data": {
      "text/plain": [
       "True"
      ]
     },
     "execution_count": 6,
     "metadata": {},
     "output_type": "execute_result"
    }
   ],
   "source": [
    "# Show the first frame\n",
    "cv2.imshow(\"First Frame\",frame)\n",
    "cv2.waitKey(0)\n",
    "cv2.imwrite(\"firstFrame.png\", frame)"
   ]
  },
  {
   "cell_type": "code",
   "execution_count": 7,
   "metadata": {},
   "outputs": [],
   "source": [
    "# Specify the initial bounding box\n",
    "bbox = cv2.selectROI(frame)"
   ]
  },
  {
   "cell_type": "code",
   "execution_count": 8,
   "metadata": {},
   "outputs": [
    {
     "name": "stdout",
     "output_type": "stream",
     "text": [
      "(41, 10, 173, 350)\n"
     ]
    }
   ],
   "source": [
    "print(bbox)"
   ]
  },
  {
   "cell_type": "code",
   "execution_count": 9,
   "metadata": {},
   "outputs": [],
   "source": [
    "cv2.destroyAllWindows()"
   ]
  },
  {
   "cell_type": "code",
   "execution_count": 10,
   "metadata": {},
   "outputs": [],
   "source": [
    "# MedianFlow Tracker\n",
    "tracker = cv2.TrackerMedianFlow_create()"
   ]
  },
  {
   "cell_type": "code",
   "execution_count": 11,
   "metadata": {},
   "outputs": [],
   "source": [
    "# Initialize tracker\n",
    "ret = tracker.init(frame,bbox)"
   ]
  },
  {
   "cell_type": "code",
   "execution_count": 12,
   "metadata": {},
   "outputs": [],
   "source": [
    "# Create a new window where we will display\n",
    "# the results\n",
    "cv2.namedWindow(\"Tracker\")\n",
    "# Display the first frame\n",
    "cv2.imshow(\"Tracker\",frame)"
   ]
  },
  {
   "cell_type": "code",
   "execution_count": 13,
   "metadata": {},
   "outputs": [],
   "source": [
    "while True:\n",
    "    \n",
    "    # Read next frame\n",
    "    ret, frame = video.read()\n",
    "    \n",
    "    # Check if frame was read\n",
    "    if ret == False:\n",
    "        break\n",
    "    \n",
    "    # Update tracker\n",
    "    found, bbox = tracker.update(frame)\n",
    "    \n",
    "    # If object found, draw bbox\n",
    "    if found:\n",
    "        # Top left corner\n",
    "        topLeft = (int(bbox[0]), int(bbox[1]))\n",
    "        # Bottom right corner\n",
    "        bottomRight = (int(bbox[0]+bbox[2]), int(bbox[1]+bbox[3]))\n",
    "        # Display bounding box\n",
    "        cv2.rectangle(frame, topLeft, bottomRight, (0,0,255), 2)\n",
    "    else:\n",
    "        # Display status\n",
    "        cv2.putText(frame, \"Object not found\", (20,70),\n",
    "                   cv2.FONT_HERSHEY_SIMPLEX, 0.75, (0,0,255), 2)\n",
    "        \n",
    "    # Display frame\n",
    "    cv2.imshow(\"Tracker\",frame)\n",
    "    k = cv2.waitKey(5)\n",
    "    if k == 27:\n",
    "        break"
   ]
  },
  {
   "cell_type": "code",
   "execution_count": 14,
   "metadata": {},
   "outputs": [],
   "source": [
    "cv2.destroyAllWindows()"
   ]
  }
 ],
 "metadata": {
  "kernelspec": {
   "display_name": "Python 3",
   "language": "python",
   "name": "python3"
  },
  "language_info": {
   "codemirror_mode": {
    "name": "ipython",
    "version": 3
   },
   "file_extension": ".py",
   "mimetype": "text/x-python",
   "name": "python",
   "nbconvert_exporter": "python",
   "pygments_lexer": "ipython3",
   "version": "3.7.1"
  }
 },
 "nbformat": 4,
 "nbformat_minor": 2
}
