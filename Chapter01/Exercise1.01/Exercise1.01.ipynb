{
 "cells": [
  {
   "cell_type": "code",
   "execution_count": 1,
   "metadata": {},
   "outputs": [],
   "source": [
    "import numpy as np"
   ]
  },
  {
   "cell_type": "code",
   "execution_count": 2,
   "metadata": {},
   "outputs": [],
   "source": [
    "npArray = np.zeros((5,6))"
   ]
  },
  {
   "cell_type": "code",
   "execution_count": 3,
   "metadata": {},
   "outputs": [
    {
     "name": "stdout",
     "output_type": "stream",
     "text": [
      "[[0. 0. 0. 0. 0. 0.]\n",
      " [0. 0. 0. 0. 0. 0.]\n",
      " [0. 0. 0. 0. 0. 0.]\n",
      " [0. 0. 0. 0. 0. 0.]\n",
      " [0. 0. 0. 0. 0. 0.]]\n"
     ]
    }
   ],
   "source": [
    "print(npArray)"
   ]
  },
  {
   "cell_type": "code",
   "execution_count": 4,
   "metadata": {},
   "outputs": [
    {
     "name": "stdout",
     "output_type": "stream",
     "text": [
      "float64\n"
     ]
    }
   ],
   "source": [
    "print(npArray.dtype)"
   ]
  },
  {
   "cell_type": "code",
   "execution_count": 5,
   "metadata": {},
   "outputs": [
    {
     "name": "stdout",
     "output_type": "stream",
     "text": [
      "(5, 6)\n"
     ]
    }
   ],
   "source": [
    "print(npArray.shape)"
   ]
  },
  {
   "cell_type": "code",
   "execution_count": 6,
   "metadata": {},
   "outputs": [
    {
     "name": "stdout",
     "output_type": "stream",
     "text": [
      "Number of rows in array = 5\n",
      "Number of columns in array = 6\n"
     ]
    }
   ],
   "source": [
    "print(\"Number of rows in array = {}\".format(npArray.shape[0]))\n",
    "print(\"Number of columns in array = {}\".format(npArray.shape[1]))"
   ]
  },
  {
   "cell_type": "code",
   "execution_count": 7,
   "metadata": {},
   "outputs": [],
   "source": [
    "npArray = np.zeros((5,6), dtype=np.uint8)"
   ]
  },
  {
   "cell_type": "code",
   "execution_count": 8,
   "metadata": {},
   "outputs": [
    {
     "name": "stdout",
     "output_type": "stream",
     "text": [
      "[[0 0 0 0 0 0]\n",
      " [0 0 0 0 0 0]\n",
      " [0 0 0 0 0 0]\n",
      " [0 0 0 0 0 0]\n",
      " [0 0 0 0 0 0]]\n"
     ]
    }
   ],
   "source": [
    "print(npArray)"
   ]
  },
  {
   "cell_type": "code",
   "execution_count": 9,
   "metadata": {},
   "outputs": [
    {
     "name": "stdout",
     "output_type": "stream",
     "text": [
      "uint8\n"
     ]
    }
   ],
   "source": [
    "print(npArray.dtype)"
   ]
  },
  {
   "cell_type": "code",
   "execution_count": 10,
   "metadata": {},
   "outputs": [
    {
     "name": "stdout",
     "output_type": "stream",
     "text": [
      "(5, 6)\n"
     ]
    }
   ],
   "source": [
    "print(npArray.shape)"
   ]
  },
  {
   "cell_type": "code",
   "execution_count": 11,
   "metadata": {},
   "outputs": [
    {
     "name": "stdout",
     "output_type": "stream",
     "text": [
      "Number of rows in array = 5\n",
      "Number of columns in array = 6\n"
     ]
    }
   ],
   "source": [
    "print(\"Number of rows in array = {}\".format(npArray.shape[0]))\n",
    "print(\"Number of columns in array = {}\".format(npArray.shape[1]))"
   ]
  },
  {
   "cell_type": "code",
   "execution_count": 12,
   "metadata": {},
   "outputs": [
    {
     "name": "stdout",
     "output_type": "stream",
     "text": [
      "[[1 1 1 1 1 1]\n",
      " [1 1 1 1 1 1]\n",
      " [1 1 1 1 1 1]\n",
      " [1 1 1 1 1 1]\n",
      " [1 1 1 1 1 1]]\n"
     ]
    }
   ],
   "source": [
    "npArray = np.ones((5,6), dtype=np.uint8)\n",
    "\n",
    "print(npArray)"
   ]
  },
  {
   "cell_type": "code",
   "execution_count": 13,
   "metadata": {},
   "outputs": [
    {
     "name": "stdout",
     "output_type": "stream",
     "text": [
      "uint8\n",
      "(5, 6)\n"
     ]
    }
   ],
   "source": [
    "print(npArray.dtype)\n",
    "print(npArray.shape)"
   ]
  },
  {
   "cell_type": "code",
   "execution_count": 14,
   "metadata": {},
   "outputs": [
    {
     "name": "stdout",
     "output_type": "stream",
     "text": [
      "Number of rows in array = 5\n",
      "Number of columns in array = 6\n"
     ]
    }
   ],
   "source": [
    "print(\"Number of rows in array = {}\".format(npArray.shape[0]))\n",
    "print(\"Number of columns in array = {}\".format(npArray.shape[1]))"
   ]
  },
  {
   "cell_type": "code",
   "execution_count": 15,
   "metadata": {},
   "outputs": [],
   "source": [
    "npArray = np.random.rand(5,6)"
   ]
  },
  {
   "cell_type": "code",
   "execution_count": 16,
   "metadata": {},
   "outputs": [
    {
     "name": "stdout",
     "output_type": "stream",
     "text": [
      "[[0.19959385 0.36014215 0.8687727  0.03460717 0.66908867 0.65924373]\n",
      " [0.18098379 0.75098049 0.85627628 0.09379154 0.86269739 0.91590054]\n",
      " [0.79175856 0.24177746 0.95465331 0.34505896 0.49370488 0.06673543]\n",
      " [0.54195549 0.59927631 0.30597663 0.1569594  0.09029267 0.24362439]\n",
      " [0.01368384 0.84902871 0.02571856 0.97014665 0.38342116 0.70014051]]\n"
     ]
    }
   ],
   "source": [
    "print(npArray)"
   ]
  },
  {
   "cell_type": "code",
   "execution_count": 17,
   "metadata": {},
   "outputs": [
    {
     "name": "stdout",
     "output_type": "stream",
     "text": [
      "float64\n",
      "(5, 6)\n"
     ]
    }
   ],
   "source": [
    "print(npArray.dtype)\n",
    "print(npArray.shape)"
   ]
  },
  {
   "cell_type": "code",
   "execution_count": 18,
   "metadata": {},
   "outputs": [
    {
     "name": "stdout",
     "output_type": "stream",
     "text": [
      "Number of rows in array = 5\n",
      "Number of columns in array = 6\n"
     ]
    }
   ],
   "source": [
    "print(\"Number of rows in array = {}\".format(npArray.shape[0]))\n",
    "print(\"Number of columns in array = {}\".format(npArray.shape[1]))"
   ]
  },
  {
   "cell_type": "code",
   "execution_count": 19,
   "metadata": {},
   "outputs": [
    {
     "name": "stdout",
     "output_type": "stream",
     "text": [
      "[[ 1  2  3  4  5  6]\n",
      " [ 7  8  9 10 11 12]\n",
      " [13 14 15 16 17 18]\n",
      " [19 20 21 22 23 24]\n",
      " [25 26 27 28 29 30]]\n"
     ]
    }
   ],
   "source": [
    "npArray = np.array([[1,2,3,4,5,6],\n",
    "                   [7,8,9,10,11,12],\n",
    "                   [13,14,15,16,17,18],\n",
    "                   [19,20,21,22,23,24],\n",
    "                   [25,26,27,28,29,30]],\n",
    "                  dtype=np.uint8)\n",
    "\n",
    "print(npArray)"
   ]
  },
  {
   "cell_type": "code",
   "execution_count": 20,
   "metadata": {},
   "outputs": [
    {
     "name": "stdout",
     "output_type": "stream",
     "text": [
      "uint8\n",
      "(5, 6)\n",
      "Number of rows in array = 5\n",
      "Number of columns in array = 6\n"
     ]
    }
   ],
   "source": [
    "print(npArray.dtype)\n",
    "print(npArray.shape)\n",
    "\n",
    "print(\"Number of rows in array = {}\".format(npArray.shape[0]))\n",
    "print(\"Number of columns in array = {}\".format(npArray.shape[1]))"
   ]
  },
  {
   "cell_type": "code",
   "execution_count": null,
   "metadata": {},
   "outputs": [],
   "source": []
  }
 ],
 "metadata": {
  "kernelspec": {
   "display_name": "Python 3",
   "language": "python",
   "name": "python3"
  },
  "language_info": {
   "codemirror_mode": {
    "name": "ipython",
    "version": 3
   },
   "file_extension": ".py",
   "mimetype": "text/x-python",
   "name": "python",
   "nbconvert_exporter": "python",
   "pygments_lexer": "ipython3",
   "version": "3.7.1"
  }
 },
 "nbformat": 4,
 "nbformat_minor": 2
}
