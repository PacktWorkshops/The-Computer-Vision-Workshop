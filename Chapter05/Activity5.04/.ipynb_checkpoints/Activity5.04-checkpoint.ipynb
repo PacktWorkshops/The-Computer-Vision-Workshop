{
 "cells": [
  {
   "cell_type": "code",
   "execution_count": 1,
   "metadata": {},
   "outputs": [],
   "source": [
    "import cv2 \n",
    "import numpy as np "
   ]
  },
  {
   "cell_type": "code",
   "execution_count": null,
   "metadata": {},
   "outputs": [],
   "source": [
    "def emojiFilter(image, cascadeFile, emojiFile):\n",
    "\n",
    "    \"\"\"This is a custom function which is responsible\n",
    "\n",
    "    for carrying out object detection using cascade model.\n",
    "\n",
    "    The function takes the filenames of both cascades and the image\n",
    "\n",
    "    filename as the input and returns the list of\n",
    "\n",
    "    bounding boxes around the detected object instances.\"\"\"\n",
    "\n",
    "    # Step 1 - Read the emoji\n",
    "    emoji = cv2.imread(emojiFile,-1)\n",
    "    #cv2.imwrite(\"emoji_alpha.jpg\",emoji[:,:,3])\n",
    "\n",
    "    # Step 2 – Convert the image from BGR to Grayscale\n",
    "    gray = cv2.cvtColor(image, cv2.COLOR_BGR2GRAY)\n",
    "\n",
    "    # Step 3 – Load the cascade\n",
    "    haarCascade = cv2.CascadeClassifier(cascadeFile)\n",
    "\n",
    "    # Step 4 – Perform multi-scale detection\n",
    "    detectedObjects = haarCascade.detectMultiScale(gray, 1.2, 3)\n",
    "\n",
    "    # If no objects detected, return None\n",
    "    if len(detectedObjects) == 0:\n",
    "        return None\n",
    "\n",
    "    # Step 5 – Draw bounding boxes\n",
    "    for bbox in detectedObjects:\n",
    "\n",
    "        # Each bbox is a rectangle representing\n",
    "        # the bounding box around the detected object\n",
    "        x, y, w, h = bbox\n",
    "\n",
    "        # Resize emoji to match size of face\n",
    "        emoji_resized = cv2.resize(emoji, (w,h), interpolation = cv2.INTER_AREA)\n",
    "        (image[y:y+h, x:x+w])[np.where(emoji_resized[:,:,3]!=0)] = (emoji_resized[:,:,:3])[np.where(emoji_resized[:,:,3]!=0)]\n",
    "\n",
    "    # Step 6 – Return the revised image\n",
    "    return image"
   ]
  },
  {
   "cell_type": "code",
   "execution_count": null,
   "metadata": {},
   "outputs": [],
   "source": [
    "# Start webcam\n",
    "cap = cv2.VideoCapture(0)"
   ]
  },
  {
   "cell_type": "code",
   "execution_count": null,
   "metadata": {},
   "outputs": [],
   "source": [
    "# Check if camera opened successfully\n",
    "if (cap.isOpened() == False):\n",
    "    print(\"Error opening webcam\")"
   ]
  },
  {
   "cell_type": "code",
   "execution_count": null,
   "metadata": {},
   "outputs": [],
   "source": [
    "while True:\n",
    "    # Capture frame\n",
    "    ret, frame = cap.read()\n",
    "    \n",
    "    emojiFilterResult = None\n",
    "\n",
    "    # Check if frame read successfully\n",
    "    if ret == True:\n",
    "        # Emoji filter\n",
    "        emojiFilterResult = emojiFilter(frame,\n",
    "                                        \"../data/haarcascade_frontalface_default.xml\",\n",
    "                                        \"../data/emoji.png\")\n",
    "    else:\n",
    "        break\n",
    "\n",
    "    if emojiFilterResult is None:\n",
    "        continue\n",
    "    else:\n",
    "        cv2.imshow(\"Emoji Filter\", emojiFilterResult)\n",
    "        k = cv2.waitKey(25)\n",
    "        if k == 27:\n",
    "            break"
   ]
  },
  {
   "cell_type": "code",
   "execution_count": null,
   "metadata": {},
   "outputs": [],
   "source": [
    "cap.release()\n",
    "cv2.destroyAllWindows()"
   ]
  }
 ],
 "metadata": {
  "kernelspec": {
   "display_name": "Python 3",
   "language": "python",
   "name": "python3"
  },
  "language_info": {
   "codemirror_mode": {
    "name": "ipython",
    "version": 3
   },
   "file_extension": ".py",
   "mimetype": "text/x-python",
   "name": "python",
   "nbconvert_exporter": "python",
   "pygments_lexer": "ipython3",
   "version": "3.7.1"
  }
 },
 "nbformat": 4,
 "nbformat_minor": 4
}
