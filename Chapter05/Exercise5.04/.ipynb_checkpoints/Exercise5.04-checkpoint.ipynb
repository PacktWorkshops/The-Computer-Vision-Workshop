{
 "cells": [
  {
   "cell_type": "code",
   "execution_count": null,
   "metadata": {},
   "outputs": [],
   "source": [
    "import cv2\n",
    "import numpy as np"
   ]
  },
  {
   "cell_type": "code",
   "execution_count": null,
   "metadata": {},
   "outputs": [],
   "source": [
    "# Read image\n",
    "img = cv2.imread(\"../data/grabcut.jpg\")"
   ]
  },
  {
   "cell_type": "code",
   "execution_count": null,
   "metadata": {},
   "outputs": [],
   "source": [
    "imgCopy = img.copy()"
   ]
  },
  {
   "cell_type": "code",
   "execution_count": null,
   "metadata": {},
   "outputs": [],
   "source": [
    "# Create a mask\n",
    "mask = np.zeros(img.shape[:2], np.uint8)"
   ]
  },
  {
   "cell_type": "code",
   "execution_count": null,
   "metadata": {},
   "outputs": [],
   "source": [
    "# Temporary arrays\n",
    "bgdModel = np.zeros((1,65),np.float64)\n",
    "fgdModel = np.zeros((1,65),np.float64)"
   ]
  },
  {
   "cell_type": "code",
   "execution_count": null,
   "metadata": {},
   "outputs": [],
   "source": [
    "# Select ROI\n",
    "rect = cv2.selectROI(img)"
   ]
  },
  {
   "cell_type": "code",
   "execution_count": null,
   "metadata": {},
   "outputs": [],
   "source": [
    "# Draw rectangle\n",
    "x,y,w,h = rect"
   ]
  },
  {
   "cell_type": "code",
   "execution_count": null,
   "metadata": {},
   "outputs": [],
   "source": [
    "cv2.rectangle(imgCopy, (x, y), (x+w, y+h), (0, 0, 255), 3)"
   ]
  },
  {
   "cell_type": "code",
   "execution_count": null,
   "metadata": {},
   "outputs": [],
   "source": [
    "cv2.imwrite(\"roi.png\",imgCopy)"
   ]
  },
  {
   "cell_type": "code",
   "execution_count": null,
   "metadata": {},
   "outputs": [],
   "source": [
    "# Perform grabcut\n",
    "cv2.grabCut(img,mask,rect,bgdModel,fgdModel,5,cv2.GC_INIT_WITH_RECT)"
   ]
  },
  {
   "cell_type": "code",
   "execution_count": null,
   "metadata": {},
   "outputs": [],
   "source": [
    "mask2 = np.where((mask==2)|(mask==0),0,1).astype('uint8')\n",
    "cv2.imshow(\"Mask\",mask*80)\n",
    "cv2.imshow(\"Mask2\",mask2*255)\n",
    "cv2.imwrite(\"mask.png\",mask*80)\n",
    "cv2.imwrite(\"mask2.png\",mask2*255)\n",
    "cv2.waitKey(0)\n",
    "cv2.destroyAllWindows()"
   ]
  },
  {
   "cell_type": "code",
   "execution_count": null,
   "metadata": {},
   "outputs": [],
   "source": [
    "img = img*mask2[:,:,np.newaxis]"
   ]
  },
  {
   "cell_type": "code",
   "execution_count": null,
   "metadata": {},
   "outputs": [],
   "source": [
    "img_mask = img.copy()\n",
    "mask2 = mask2*255\n",
    "mask_copy = mask2.copy()"
   ]
  },
  {
   "cell_type": "code",
   "execution_count": null,
   "metadata": {},
   "outputs": [],
   "source": [
    "# OpenCV Utility Class for Mouse Handling\n",
    "class Sketcher:\n",
    "    def __init__(self, windowname, dests, colors_func):\n",
    "        self.prev_pt = None\n",
    "        self.windowname = windowname\n",
    "        self.dests = dests\n",
    "        self.colors_func = colors_func\n",
    "        self.dirty = False\n",
    "        self.show()\n",
    "        cv2.setMouseCallback(self.windowname, self.on_mouse)\n",
    "\n",
    "    def show(self):\n",
    "        cv2.imshow(self.windowname, self.dests[0])\n",
    "        cv2.imshow(self.windowname + \": mask\", self.dests[1])\n",
    "\n",
    "    # onMouse function for Mouse Handling\n",
    "    def on_mouse(self, event, x, y, flags, param):\n",
    "        pt = (x, y)\n",
    "        if event == cv2.EVENT_LBUTTONDOWN:\n",
    "            self.prev_pt = pt\n",
    "        elif event == cv2.EVENT_LBUTTONUP:\n",
    "            self.prev_pt = None\n",
    "        if self.prev_pt and flags & cv2.EVENT_FLAG_LBUTTON:\n",
    "            for dst, color in zip(self.dests, self.colors_func()):\n",
    "                cv2.line(dst, self.prev_pt, pt, color, 5)\n",
    "            self.dirty = True\n",
    "            self.prev_pt = pt\n",
    "            self.show()"
   ]
  },
  {
   "cell_type": "code",
   "execution_count": null,
   "metadata": {},
   "outputs": [],
   "source": [
    "# Create sketch using OpenCV Utility Class: Sketcher\n",
    "sketch = Sketcher('image', [img_mask, mask2], lambda : ((255,0,0), 255))"
   ]
  },
  {
   "cell_type": "code",
   "execution_count": null,
   "metadata": {},
   "outputs": [],
   "source": [
    "while True:\n",
    "    ch = cv2.waitKey()\n",
    "    # Quit\n",
    "    if ch == 27:\n",
    "        print(\"exiting...\")\n",
    "        cv2.imwrite(\"img_mask_grabcut.png\",img_mask)\n",
    "        cv2.imwrite(\"mask_grabcut.png\",mask2)\n",
    "        break\n",
    "    # Reset\n",
    "    elif ch == ord('r'):\n",
    "        print(\"resetting...\")\n",
    "        img_mask = img.copy()\n",
    "        mask2 = mask_copy.copy()\n",
    "        sketch = Sketcher('image', [img_mask, mask2], lambda : ((255,0,0), 255))\n",
    "        sketch.show()\n",
    "    # Change to background\n",
    "    elif ch == ord('b'):\n",
    "        print(\"drawing background...\")\n",
    "        sketch = Sketcher('image', [img_mask, mask2], lambda : ((0,0,255), 0))\n",
    "        sketch.show()\n",
    "    # Change to foreground\n",
    "    elif ch == ord('f'):\n",
    "        print(\"drawing foreground...\")\n",
    "        sketch = Sketcher('image', [img_mask, mask2], lambda : ((255,0,0), 255))\n",
    "        sketch.show()\n",
    "    else:\n",
    "        print(\"performing grabcut...\")\n",
    "        mask2 = mask2//255\n",
    "        cv2.grabCut(img,mask2,None,bgdModel,fgdModel,5,cv2.GC_INIT_WITH_MASK)\n",
    "        mask2 = np.where((mask2==2)|(mask2==0),0,1).astype('uint8')\n",
    "        img_mask = img*mask2[:,:,np.newaxis]\n",
    "        mask2 = mask2*255\n",
    "        print(\"switching bank to foreground...\")\n",
    "        sketch = Sketcher('image', [img_mask, mask2], lambda : ((255,0,0), 255))\n",
    "        sketch.show()"
   ]
  },
  {
   "cell_type": "code",
   "execution_count": null,
   "metadata": {},
   "outputs": [],
   "source": [
    "cv2.destroyAllWindows()"
   ]
  }
 ],
 "metadata": {
  "kernelspec": {
   "display_name": "Python 3",
   "language": "python",
   "name": "python3"
  },
  "language_info": {
   "codemirror_mode": {
    "name": "ipython",
    "version": 3
   },
   "file_extension": ".py",
   "mimetype": "text/x-python",
   "name": "python",
   "nbconvert_exporter": "python",
   "pygments_lexer": "ipython3",
   "version": "3.7.1"
  }
 },
 "nbformat": 4,
 "nbformat_minor": 4
}
