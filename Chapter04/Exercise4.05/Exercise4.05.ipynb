{
 "cells": [
  {
   "cell_type": "code",
   "execution_count": 1,
   "metadata": {},
   "outputs": [],
   "source": [
    "import cv2 \n",
    "\n",
    "image = cv2.imread('basketball.jpg') \n",
    "imageCopy= image.copy()\n",
    "cv2.imshow( 'BGR image' , image )\n",
    "cv2.waitKey(0) \n",
    "cv2.destroyAllWindows()\n"
   ]
  },
  {
   "cell_type": "code",
   "execution_count": 2,
   "metadata": {},
   "outputs": [],
   "source": [
    "gray_image = cv2.cvtColor(image,cv2.COLOR_BGR2GRAY) \n",
    "cv2.imshow( 'gray' , gray_image )\n",
    "cv2.waitKey(0) \n",
    "cv2.destroyAllWindows()\n",
    "\n",
    "ret,binary_im = cv2.threshold(gray_image, 100, 255, cv2.THRESH_BINARY)\n",
    "# binary_im= ~binary_im\n",
    "cv2.imshow( 'binary' , binary_im )\n",
    "cv2.waitKey(0) \n",
    "cv2.destroyAllWindows()"
   ]
  },
  {
   "cell_type": "code",
   "execution_count": 3,
   "metadata": {},
   "outputs": [],
   "source": [
    "#calculate the contours from binary image\n",
    "contours,hierarchy = cv2.findContours(binary_im,cv2.RETR_TREE,cv2.CHAIN_APPROX_SIMPLE) \n",
    "\n",
    "contours_to_plot= -1\n",
    "plotting_color= (0,255,0)\n",
    "thickness= -1\n",
    "with_contours = cv2.drawContours(image,contours,contours_to_plot, plotting_color,thickness=thickness)  #To draw all contours, pass -1) and remaining arguments are color, thickness etc.\n",
    "cv2.imshow( 'contours' , with_contours )\n",
    "cv2.waitKey(0) \n",
    "cv2.destroyAllWindows()"
   ]
  },
  {
   "cell_type": "code",
   "execution_count": 4,
   "metadata": {},
   "outputs": [],
   "source": [
    "for cnt in contours:\n",
    "    x,y,w,h = cv2.boundingRect(cnt)\n",
    "    image = cv2.rectangle(image,(x,y),(x+w,y+h),(0,255,255),2)\n",
    "    \n",
    "cv2.imshow( 'contours' , image )\n",
    "cv2.waitKey(0) \n",
    "cv2.destroyAllWindows()"
   ]
  },
  {
   "cell_type": "code",
   "execution_count": 5,
   "metadata": {},
   "outputs": [],
   "source": [
    "required_contour = max(contours, key = cv2.contourArea)\n",
    "x,y,w,h = cv2.boundingRect(required_contour)\n",
    "img_copy2 = cv2.rectangle(imageCopy,(x,y),(x+w,y+h),(0,255,255),2)"
   ]
  },
  {
   "cell_type": "code",
   "execution_count": 6,
   "metadata": {},
   "outputs": [],
   "source": [
    "cv2.imshow( 'largest contour' , img_copy2)\n",
    "cv2.waitKey(0) \n",
    "cv2.destroyAllWindows()"
   ]
  }
 ],
 "metadata": {
  "kernelspec": {
   "display_name": "Python 3",
   "language": "python",
   "name": "python3"
  },
  "language_info": {
   "codemirror_mode": {
    "name": "ipython",
    "version": 3
   },
   "file_extension": ".py",
   "mimetype": "text/x-python",
   "name": "python",
   "nbconvert_exporter": "python",
   "pygments_lexer": "ipython3",
   "version": "3.7.1"
  }
 },
 "nbformat": 4,
 "nbformat_minor": 2
}
