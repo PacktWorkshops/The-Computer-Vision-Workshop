{
 "cells": [
  {
   "cell_type": "code",
   "execution_count": 3,
   "metadata": {},
   "outputs": [],
   "source": [
    "import cv2 \n",
    "\n",
    "image = cv2.imread('phrase_handwritten.png') \n",
    "imagecopy= image.copy()"
   ]
  },
  {
   "cell_type": "code",
   "execution_count": 4,
   "metadata": {},
   "outputs": [],
   "source": [
    "gray_image = cv2.cvtColor(image,cv2.COLOR_BGR2GRAY) \n",
    "\n",
    "ret,binary_im = cv2.threshold(gray_image,0,255,cv2.THRESH_OTSU) \n",
    "cv2.imshow( 'binary image' , binary_im )\n",
    "cv2.waitKey(0) \n",
    "cv2.destroyAllWindows()"
   ]
  },
  {
   "cell_type": "code",
   "execution_count": 5,
   "metadata": {},
   "outputs": [],
   "source": [
    "contours_list,_ = cv2.findContours(binary_im,cv2.RETR_EXTERNAL,cv2.CHAIN_APPROX_SIMPLE) \n",
    "for cnt in contours_list:\n",
    "    x,y,w,h = cv2.boundingRect(cnt)\n",
    "    cv2.rectangle(image,(x,y),(x+w,y+h),(0, 255, 255),2) \n",
    "cv2.imshow( 'Contours marked on RGB image' , image )\n",
    "cv2.waitKey(0) \n",
    "cv2.destroyAllWindows()"
   ]
  },
  {
   "cell_type": "code",
   "execution_count": 6,
   "metadata": {},
   "outputs": [],
   "source": [
    "ref_gray = cv2.imread('typed_B.png', cv2.IMREAD_GRAYSCALE) \n",
    "ret, ref_binary = cv2.threshold(ref_gray,0,255,cv2.THRESH_OTSU) \n",
    "cv2.imshow( 'Reference image' , ref_binary )\n",
    "cv2.waitKey(0) \n",
    "cv2.destroyAllWindows()"
   ]
  },
  {
   "cell_type": "code",
   "execution_count": 7,
   "metadata": {},
   "outputs": [],
   "source": [
    "ref_contour_list,_ = cv2.findContours(ref_binary, cv2.RETR_EXTERNAL, cv2.CHAIN_APPROX_SIMPLE) \n",
    "if len(ref_contour_list)==1:\n",
    "    ref_contour= ref_contour_list[0]\n",
    "else:\n",
    "    import sys\n",
    "    print('Reference image contains more than 1 contour. Please check!')\n",
    "    sys.exit()\n",
    "    \n",
    "ctr= 0\n",
    "dist_list= []\n",
    "for cnt in contours_list:\n",
    "    retval\t=\tcv2.matchShapes(cnt, ref_contour,cv2.CONTOURS_MATCH_I1,0)\n",
    "    dist_list.append(retval)\n",
    "    ctr= ctr+1\n",
    "\n",
    "min_dist= min(dist_list)  \n",
    "#print('The minimum distance of the reference contour with a contour in the main image is ' + str(min_dist))\n",
    "ind_min_dist= dist_list.index(min_dist)"
   ]
  },
  {
   "cell_type": "code",
   "execution_count": 8,
   "metadata": {},
   "outputs": [],
   "source": [
    "required_cnt= contours_list[ind_min_dist]\n",
    "x,y,w,h = cv2.boundingRect(required_cnt)\n",
    "cv2.rectangle(imagecopy,(x,y),(x+w,y+h),(255, 0, 0),2) \n",
    "cv2.imshow( 'Detected B' , imagecopy )\n",
    "cv2.waitKey(0) \n",
    "cv2.destroyAllWindows()"
   ]
  }
 ],
 "metadata": {
  "kernelspec": {
   "display_name": "Python 3",
   "language": "python",
   "name": "python3"
  },
  "language_info": {
   "codemirror_mode": {
    "name": "ipython",
    "version": 3
   },
   "file_extension": ".py",
   "mimetype": "text/x-python",
   "name": "python",
   "nbconvert_exporter": "python",
   "pygments_lexer": "ipython3",
   "version": "3.7.1"
  }
 },
 "nbformat": 4,
 "nbformat_minor": 2
}
