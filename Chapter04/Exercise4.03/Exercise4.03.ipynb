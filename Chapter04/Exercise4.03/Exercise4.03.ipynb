{
 "cells": [
  {
   "cell_type": "code",
   "execution_count": 1,
   "metadata": {},
   "outputs": [],
   "source": [
    "import cv2\n",
    "image = cv2.imread('sample shapes.png')\n",
    "gray_image = cv2.cvtColor(image, cv2.COLOR_BGR2GRAY) \n",
    "cv2.imshow( 'gray' , gray_image )\n",
    "cv2.waitKey(0) \n",
    "cv2.destroyAllWindows()"
   ]
  },
  {
   "cell_type": "code",
   "execution_count": 2,
   "metadata": {},
   "outputs": [],
   "source": [
    "ret,binary_im = cv2.threshold(gray_image,0,255,cv2.THRESH_OTSU) \n",
    "cv2.imshow( 'binary image' , binary_im )\n",
    "cv2.waitKey(0) \n",
    "cv2.destroyAllWindows()"
   ]
  },
  {
   "cell_type": "code",
   "execution_count": 3,
   "metadata": {},
   "outputs": [],
   "source": [
    "inverted_binary_im= ~binary_im\n",
    "cv2.imshow( 'inverse of binary image' , inverted_binary_im )\n",
    "cv2.waitKey(0) \n",
    "cv2.destroyAllWindows()"
   ]
  },
  {
   "cell_type": "code",
   "execution_count": 4,
   "metadata": {},
   "outputs": [],
   "source": [
    "contours,hierarchy = cv2.findContours(inverted_binary_im,cv2.RETR_TREE,cv2.CHAIN_APPROX_SIMPLE) "
   ]
  },
  {
   "cell_type": "code",
   "execution_count": 5,
   "metadata": {},
   "outputs": [],
   "source": [
    "bgr = cv2.merge([inverted_binary_im, inverted_binary_im, inverted_binary_im]);"
   ]
  },
  {
   "cell_type": "code",
   "execution_count": 6,
   "metadata": {},
   "outputs": [],
   "source": [
    "with_contours = cv2.drawContours(bgr, contours, 0,(0,0,255),10) \n",
    "with_contours = cv2.drawContours(with_contours, contours, 1,(0, 255, 0),20) \n",
    "with_contours = cv2.drawContours(with_contours, contours, 2,(255,0, 0),30) \n",
    "cv2.imshow( 'Detected contours' , with_contours )\n",
    "cv2.waitKey(0) \n",
    "cv2.destroyAllWindows()"
   ]
  }
 ],
 "metadata": {
  "kernelspec": {
   "display_name": "Python 3",
   "language": "python",
   "name": "python3"
  },
  "language_info": {
   "codemirror_mode": {
    "name": "ipython",
    "version": 3
   },
   "file_extension": ".py",
   "mimetype": "text/x-python",
   "name": "python",
   "nbconvert_exporter": "python",
   "pygments_lexer": "ipython3",
   "version": "3.7.1"
  }
 },
 "nbformat": 4,
 "nbformat_minor": 2
}
