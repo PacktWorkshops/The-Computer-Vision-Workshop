{
 "cells": [
  {
   "cell_type": "markdown",
   "metadata": {},
   "source": [
    "# Import libraries"
   ]
  },
  {
   "cell_type": "code",
   "execution_count": 2,
   "metadata": {},
   "outputs": [],
   "source": [
    "import numpy as np\n",
    "import cv2\n",
    "import os"
   ]
  },
  {
   "cell_type": "code",
   "execution_count": 3,
   "metadata": {},
   "outputs": [],
   "source": [
    "lbpcascade_frontalface = 'opencv_xml_files/lbpcascade_frontalface.xml'"
   ]
  },
  {
   "cell_type": "markdown",
   "metadata": {},
   "source": [
    "# Detect face using Lbph Cascade"
   ]
  },
  {
   "cell_type": "code",
   "execution_count": 4,
   "metadata": {},
   "outputs": [],
   "source": [
    "def detect_face(input_img):\n",
    "    \"\"\"\n",
    "    detect faces from an input image\n",
    "    return: detected face and its postions that is x,y,w,h\n",
    "    \"\"\"\n",
    "    image = cv2.cvtColor(input_img, cv2.COLOR_BGR2GRAY)\n",
    "    face_cascade = cv2.CascadeClassifier(lbpcascade_frontalface)\n",
    "    faces = face_cascade.detectMultiScale(image, scaleFactor=1.1, minNeighbors=4)\n",
    "    if (len(faces) == 0):\n",
    "        return -1, -1\n",
    "    (x, y, w, h) = faces[0]\n",
    "    return image[y:y+w, x:x+h], faces[0]"
   ]
  },
  {
   "cell_type": "markdown",
   "metadata": {},
   "source": [
    "# Draw rectangular box and put label on detected face"
   ]
  },
  {
   "cell_type": "code",
   "execution_count": 5,
   "metadata": {},
   "outputs": [],
   "source": [
    "def draw_rectangle(img, rect):\n",
    "    \"\"\"\n",
    "    draws rectangular bounding box around detected face\n",
    "    \"\"\"\n",
    "    (x, y, w, h) = rect\n",
    "    cv2.rectangle(img, (x, y), (x+w, y+h), (0, 255, 0), 2)\n",
    "\n",
    "def draw_text(img, text, x, y):\n",
    "    \"\"\"\n",
    "    put label above the box\n",
    "    \"\"\"\n",
    "    cv2.putText(img, text, (x, y), cv2.FONT_HERSHEY_PLAIN, 1.5, (0, 255, 0), 2)"
   ]
  },
  {
   "cell_type": "markdown",
   "metadata": {},
   "source": [
    "# open webcam and read each frame. Each frame is passed through face detection function and finally detected face is saved in a folder which will be used for training"
   ]
  },
  {
   "cell_type": "code",
   "execution_count": 6,
   "metadata": {},
   "outputs": [],
   "source": [
    "cap = cv2.VideoCapture(0)\n",
    "count = 0\n",
    "while True:\n",
    "    _, frame = cap.read()\n",
    "    face, rect = detect_face(frame)\n",
    "    if face is not -1:\n",
    "        count +=1\n",
    "        draw_rectangle(frame, rect)\n",
    "        # change the folder path as per requirement\n",
    "        cv2.imwrite(\"detected_faces/1/\"+str(count)+ \".jpg\", face)\n",
    "    cv2.imshow(\"frame\", frame)\n",
    "    # destroy window on pressing key 'q'\n",
    "    if cv2.waitKey(1) & 0xFF == ord('q'):\n",
    "        break\n",
    "cap.release()\n",
    "cv2.destroyAllWindows() "
   ]
  },
  {
   "cell_type": "markdown",
   "metadata": {},
   "source": [
    "# Prepare training data: Read images from folder and prepare training set and respective labels"
   ]
  },
  {
   "cell_type": "code",
   "execution_count": 7,
   "metadata": {},
   "outputs": [],
   "source": [
    "detected_faces = []\n",
    "face_labels = []\n",
    "\n",
    "def prepare_training_data(training_data_folder_path):\n",
    "    \"\"\"\n",
    "    read images from folder and prepare training dataset\n",
    "    return list of detected face and labels\n",
    "    \"\"\"\n",
    "    traning_image_dirs = os.listdir(training_data_folder_path)\n",
    "    for dir_name in traning_image_dirs:\n",
    "        label = int(dir_name)\n",
    "        training_image_path = training_data_folder_path + \"/\" + dir_name\n",
    "        training_images_names = os.listdir(training_image_path)\n",
    "        for image_name in training_images_names:\n",
    "            image_path = training_image_path  + \"/\" + image_name\n",
    "            image = cv2.imread(image_path, 0)\n",
    "            detected_faces.append(image)\n",
    "            face_labels.append(label)\n",
    "\n",
    "    return detected_faces, face_labels"
   ]
  },
  {
   "cell_type": "code",
   "execution_count": 8,
   "metadata": {},
   "outputs": [],
   "source": [
    "detected_faces, face_labels = prepare_training_data('detected_faces')"
   ]
  },
  {
   "cell_type": "code",
   "execution_count": 10,
   "metadata": {},
   "outputs": [
    {
     "name": "stdout",
     "output_type": "stream",
     "text": [
      "Total faces:  124\n",
      "Total labels:  124\n"
     ]
    }
   ],
   "source": [
    "print(\"Total faces: \", len(detected_faces))\n",
    "print(\"Total labels: \", len(face_labels))"
   ]
  },
  {
   "cell_type": "markdown",
   "metadata": {},
   "source": [
    "# Initialize a face recongizer model from OpenCV module"
   ]
  },
  {
   "cell_type": "code",
   "execution_count": 11,
   "metadata": {},
   "outputs": [],
   "source": [
    "lbphfaces_recognizer = cv2.face. LBPHFaceRecognizer_create(radius=1, neighbors=8)"
   ]
  },
  {
   "cell_type": "markdown",
   "metadata": {},
   "source": [
    "# train the face recognizer model"
   ]
  },
  {
   "cell_type": "code",
   "execution_count": 12,
   "metadata": {},
   "outputs": [],
   "source": [
    "lbphfaces_recognizer.train(detected_faces, np.array(face_labels))"
   ]
  },
  {
   "cell_type": "markdown",
   "metadata": {},
   "source": [
    "# open webcam, read each frame and pass it to the trained model. For binary prediction: If the confidence value of prediction is less than the threshold value then set label text equal to user name otherwise unknown. For multiclass prediction: set label_text to label"
   ]
  },
  {
   "cell_type": "code",
   "execution_count": 14,
   "metadata": {},
   "outputs": [],
   "source": [
    "cap = cv2.VideoCapture(0)\n",
    "while True:\n",
    "    _, frame = cap.read()\n",
    "    face, rect = detect_face(frame)\n",
    "    if face is not -1:\n",
    "        label= lbphfaces_recognizer.predict(face)\n",
    "        if label[1]<75:\n",
    "            label_text = str(label[0])\n",
    "        else:\n",
    "            label_text = 'unknown'\n",
    "        draw_rectangle(frame, rect)\n",
    "        if label[1]<75:\n",
    "            draw_text(frame, label_text, rect[0], rect[1]-5)\n",
    "        else:\n",
    "            draw_text(frame, label_text, rect[0], rect[1]-5)\n",
    "    cv2.imshow(\"frame\", frame)\n",
    "    if cv2.waitKey(1) & 0xFF == ord('q'):\n",
    "        break\n",
    "cap.release()\n",
    "cv2.destroyAllWindows()"
   ]
  },
  {
   "cell_type": "code",
   "execution_count": null,
   "metadata": {},
   "outputs": [],
   "source": []
  }
 ],
 "metadata": {
  "kernelspec": {
   "display_name": "Python 3",
   "language": "python",
   "name": "python3"
  },
  "language_info": {
   "codemirror_mode": {
    "name": "ipython",
    "version": 3
   },
   "file_extension": ".py",
   "mimetype": "text/x-python",
   "name": "python",
   "nbconvert_exporter": "python",
   "pygments_lexer": "ipython3",
   "version": "3.7.1"
  }
 },
 "nbformat": 4,
 "nbformat_minor": 2
}
